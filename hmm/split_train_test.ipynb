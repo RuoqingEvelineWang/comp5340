{
 "cells": [
  {
   "cell_type": "code",
   "execution_count": 1,
   "metadata": {},
   "outputs": [],
   "source": [
    "import pandas as pd\n",
    "from sklearn.preprocessing import LabelEncoder, StandardScaler, MinMaxScaler\n",
    "import numpy as np\n",
    "from hmmlearn import hmm\n",
    "import random\n",
    "import warnings\n",
    "from sklearn.metrics import accuracy_score, f1_score, precision_score, recall_score, confusion_matrix\n",
    "warnings.filterwarnings('ignore')"
   ]
  },
  {
   "cell_type": "code",
   "execution_count": 46,
   "metadata": {},
   "outputs": [
    {
     "name": "stdout",
     "output_type": "stream",
     "text": [
      "(5078345, 11)\n",
      "(5078336, 11)\n"
     ]
    },
    {
     "data": {
      "text/html": [
       "<div>\n",
       "<style scoped>\n",
       "    .dataframe tbody tr th:only-of-type {\n",
       "        vertical-align: middle;\n",
       "    }\n",
       "\n",
       "    .dataframe tbody tr th {\n",
       "        vertical-align: top;\n",
       "    }\n",
       "\n",
       "    .dataframe thead th {\n",
       "        text-align: right;\n",
       "    }\n",
       "</style>\n",
       "<table border=\"1\" class=\"dataframe\">\n",
       "  <thead>\n",
       "    <tr style=\"text-align: right;\">\n",
       "      <th></th>\n",
       "      <th>Timestamp</th>\n",
       "      <th>FromAccount</th>\n",
       "      <th>ToAccount</th>\n",
       "      <th>FromBank</th>\n",
       "      <th>ToBank</th>\n",
       "      <th>ReceivingCurrency</th>\n",
       "      <th>PaymentCurrency</th>\n",
       "      <th>PaymentFormat</th>\n",
       "      <th>AmountPaid</th>\n",
       "      <th>AmountReceived</th>\n",
       "      <th>IsLaundering</th>\n",
       "    </tr>\n",
       "  </thead>\n",
       "  <tbody>\n",
       "    <tr>\n",
       "      <th>0</th>\n",
       "      <td>2022-09-01 00:20:00</td>\n",
       "      <td>6530</td>\n",
       "      <td>6530</td>\n",
       "      <td>8</td>\n",
       "      <td>8</td>\n",
       "      <td>12</td>\n",
       "      <td>12</td>\n",
       "      <td>5</td>\n",
       "      <td>3697.34</td>\n",
       "      <td>3697.34</td>\n",
       "      <td>0</td>\n",
       "    </tr>\n",
       "    <tr>\n",
       "      <th>1</th>\n",
       "      <td>2022-09-01 00:20:00</td>\n",
       "      <td>358174</td>\n",
       "      <td>176809</td>\n",
       "      <td>109</td>\n",
       "      <td>0</td>\n",
       "      <td>12</td>\n",
       "      <td>12</td>\n",
       "      <td>3</td>\n",
       "      <td>0.01</td>\n",
       "      <td>0.01</td>\n",
       "      <td>0</td>\n",
       "    </tr>\n",
       "    <tr>\n",
       "      <th>2</th>\n",
       "      <td>2022-09-01 00:00:00</td>\n",
       "      <td>358476</td>\n",
       "      <td>358476</td>\n",
       "      <td>110</td>\n",
       "      <td>110</td>\n",
       "      <td>12</td>\n",
       "      <td>12</td>\n",
       "      <td>5</td>\n",
       "      <td>14675.57</td>\n",
       "      <td>14675.57</td>\n",
       "      <td>0</td>\n",
       "    </tr>\n",
       "    <tr>\n",
       "      <th>3</th>\n",
       "      <td>2022-09-01 00:02:00</td>\n",
       "      <td>74640</td>\n",
       "      <td>74640</td>\n",
       "      <td>10</td>\n",
       "      <td>10</td>\n",
       "      <td>12</td>\n",
       "      <td>12</td>\n",
       "      <td>5</td>\n",
       "      <td>2806.97</td>\n",
       "      <td>2806.97</td>\n",
       "      <td>0</td>\n",
       "    </tr>\n",
       "    <tr>\n",
       "      <th>4</th>\n",
       "      <td>2022-09-01 00:06:00</td>\n",
       "      <td>6538</td>\n",
       "      <td>6538</td>\n",
       "      <td>8</td>\n",
       "      <td>8</td>\n",
       "      <td>12</td>\n",
       "      <td>12</td>\n",
       "      <td>5</td>\n",
       "      <td>36682.97</td>\n",
       "      <td>36682.97</td>\n",
       "      <td>0</td>\n",
       "    </tr>\n",
       "  </tbody>\n",
       "</table>\n",
       "</div>"
      ],
      "text/plain": [
       "             Timestamp  FromAccount  ToAccount  FromBank  ToBank  \\\n",
       "0  2022-09-01 00:20:00         6530       6530         8       8   \n",
       "1  2022-09-01 00:20:00       358174     176809       109       0   \n",
       "2  2022-09-01 00:00:00       358476     358476       110     110   \n",
       "3  2022-09-01 00:02:00        74640      74640        10      10   \n",
       "4  2022-09-01 00:06:00         6538       6538         8       8   \n",
       "\n",
       "   ReceivingCurrency  PaymentCurrency  PaymentFormat  AmountPaid  \\\n",
       "0                 12               12              5     3697.34   \n",
       "1                 12               12              3        0.01   \n",
       "2                 12               12              5    14675.57   \n",
       "3                 12               12              5     2806.97   \n",
       "4                 12               12              5    36682.97   \n",
       "\n",
       "   AmountReceived  IsLaundering  \n",
       "0         3697.34             0  \n",
       "1            0.01             0  \n",
       "2        14675.57             0  \n",
       "3         2806.97             0  \n",
       "4        36682.97             0  "
      ]
     },
     "execution_count": 46,
     "metadata": {},
     "output_type": "execute_result"
    }
   ],
   "source": [
    "data_path = '../../data/HI-Small_Trans_processed.csv' # after categorical encoder, and field selection\n",
    "df = pd.read_csv(data_path)\n",
    "print(df.shape)\n",
    "df = df.drop_duplicates()\n",
    "print(df.shape)\n",
    "df.head()"
   ]
  },
  {
   "cell_type": "code",
   "execution_count": 47,
   "metadata": {},
   "outputs": [],
   "source": [
    "def group_by_accounts(df, col1, col2, other_columns):\n",
    "    # Reshape the DataFrame to have a single account column, while preserving other specified columns\n",
    "    melted_df = pd.melt(df.reset_index(), id_vars=['index'] + other_columns, value_vars=[col1, col2])\n",
    "    melted_df.rename(columns={'value': 'Account'}, inplace=True)\n",
    "    \n",
    "    # Group by account and collect all unique indices for each account\n",
    "    account_indices = melted_df.groupby('Account')['index'].unique()\n",
    "    \n",
    "    # Create a DataFrame for each account group using the collected indices\n",
    "    account_group_dataframes = {account: df.loc[indices].drop_duplicates() for account, indices in account_indices.items()}\n",
    "    return account_group_dataframes"
   ]
  },
  {
   "cell_type": "code",
   "execution_count": 48,
   "metadata": {},
   "outputs": [
    {
     "name": "stdout",
     "output_type": "stream",
     "text": [
      "CPU times: total: 18min 45s\n",
      "Wall time: 18min 43s\n"
     ]
    }
   ],
   "source": [
    "%%time\n",
    "\n",
    "other_columns = [x for x in df.columns if x not in ['FromAccount', 'ToAccount']]\n",
    "grouped_data = group_by_accounts(df, 'FromAccount', 'ToAccount', other_columns)"
   ]
  },
  {
   "cell_type": "code",
   "execution_count": 49,
   "metadata": {},
   "outputs": [
    {
     "name": "stdout",
     "output_type": "stream",
     "text": [
      "515088\n"
     ]
    }
   ],
   "source": [
    "print(len(grouped_data))"
   ]
  },
  {
   "cell_type": "code",
   "execution_count": 50,
   "metadata": {},
   "outputs": [
    {
     "name": "stdout",
     "output_type": "stream",
     "text": [
      "0\n",
      "                  Timestamp  FromAccount  ToAccount  FromBank  ToBank  \\\n",
      "212996  2022-09-01 00:22:00       320763          0      6940     598   \n",
      "\n",
      "        ReceivingCurrency  PaymentCurrency  PaymentFormat  AmountPaid  \\\n",
      "212996                 13               13              3        0.01   \n",
      "\n",
      "        AmountReceived  IsLaundering  \n",
      "212996            0.01             0  \n"
     ]
    }
   ],
   "source": [
    "for k, v in grouped_data.items():\n",
    "    print(k)\n",
    "    print(v)\n",
    "    break"
   ]
  },
  {
   "cell_type": "code",
   "execution_count": 71,
   "metadata": {},
   "outputs": [
    {
     "name": "stderr",
     "output_type": "stream",
     "text": [
      "100%|██████████| 515088/515088 [00:12<00:00, 41458.39it/s] "
     ]
    },
    {
     "name": "stdout",
     "output_type": "stream",
     "text": [
      "515088\n",
      "92971\n"
     ]
    },
    {
     "name": "stderr",
     "output_type": "stream",
     "text": [
      "\n"
     ]
    }
   ],
   "source": [
    "min_len = 35\n",
    "test_ratio = 0.2\n",
    "\n",
    "import tqdm\n",
    "X_train, X_test = [], []\n",
    "for this_name, this_seq in tqdm.tqdm(grouped_data.items()):\n",
    "    if this_seq.shape[0] < min_len:\n",
    "        X_train.append(this_seq)\n",
    "        continue\n",
    "    test_len = int(this_seq.shape[0] * test_ratio)\n",
    "    train_len = this_seq.shape[0] - test_len\n",
    "    X_train.append(this_seq[:train_len])\n",
    "    X_test.append(this_seq[train_len:])\n",
    "\n",
    "print(len(X_train))\n",
    "print(len(X_test))\n"
   ]
  },
  {
   "cell_type": "code",
   "execution_count": 72,
   "metadata": {},
   "outputs": [],
   "source": [
    "train_data_seq = pd.concat(X_train).drop_duplicates()\n",
    "test_data_seq = pd.concat(X_test).drop_duplicates()"
   ]
  },
  {
   "cell_type": "code",
   "execution_count": 73,
   "metadata": {},
   "outputs": [
    {
     "name": "stdout",
     "output_type": "stream",
     "text": [
      "(4948983, 11)\n",
      "(1069155, 11)\n"
     ]
    }
   ],
   "source": [
    "print(train_data_seq.shape)\n",
    "print(test_data_seq.shape)"
   ]
  },
  {
   "cell_type": "code",
   "execution_count": 75,
   "metadata": {},
   "outputs": [
    {
     "data": {
      "text/plain": [
       "(1069155, 11)"
      ]
     },
     "execution_count": 75,
     "metadata": {},
     "output_type": "execute_result"
    }
   ],
   "source": [
    "test_data = df.loc[test_data_seq.index]\n",
    "test_data.shape"
   ]
  },
  {
   "cell_type": "code",
   "execution_count": 76,
   "metadata": {},
   "outputs": [
    {
     "data": {
      "text/html": [
       "<div>\n",
       "<style scoped>\n",
       "    .dataframe tbody tr th:only-of-type {\n",
       "        vertical-align: middle;\n",
       "    }\n",
       "\n",
       "    .dataframe tbody tr th {\n",
       "        vertical-align: top;\n",
       "    }\n",
       "\n",
       "    .dataframe thead th {\n",
       "        text-align: right;\n",
       "    }\n",
       "</style>\n",
       "<table border=\"1\" class=\"dataframe\">\n",
       "  <thead>\n",
       "    <tr style=\"text-align: right;\">\n",
       "      <th></th>\n",
       "      <th>Timestamp</th>\n",
       "      <th>FromAccount</th>\n",
       "      <th>ToAccount</th>\n",
       "      <th>FromBank</th>\n",
       "      <th>ToBank</th>\n",
       "      <th>ReceivingCurrency</th>\n",
       "      <th>PaymentCurrency</th>\n",
       "      <th>PaymentFormat</th>\n",
       "      <th>AmountPaid</th>\n",
       "      <th>AmountReceived</th>\n",
       "      <th>IsLaundering</th>\n",
       "    </tr>\n",
       "  </thead>\n",
       "  <tbody>\n",
       "    <tr>\n",
       "      <th>2798149</th>\n",
       "      <td>2022-09-06 00:45:00</td>\n",
       "      <td>281020</td>\n",
       "      <td>2</td>\n",
       "      <td>19</td>\n",
       "      <td>598</td>\n",
       "      <td>13</td>\n",
       "      <td>13</td>\n",
       "      <td>3</td>\n",
       "      <td>1391409.78</td>\n",
       "      <td>1391409.78</td>\n",
       "      <td>0</td>\n",
       "    </tr>\n",
       "    <tr>\n",
       "      <th>3023096</th>\n",
       "      <td>2022-09-06 12:22:00</td>\n",
       "      <td>152746</td>\n",
       "      <td>2</td>\n",
       "      <td>81</td>\n",
       "      <td>598</td>\n",
       "      <td>13</td>\n",
       "      <td>13</td>\n",
       "      <td>3</td>\n",
       "      <td>1983640.26</td>\n",
       "      <td>1983640.26</td>\n",
       "      <td>0</td>\n",
       "    </tr>\n",
       "    <tr>\n",
       "      <th>3023098</th>\n",
       "      <td>2022-09-06 12:09:00</td>\n",
       "      <td>152746</td>\n",
       "      <td>2</td>\n",
       "      <td>81</td>\n",
       "      <td>598</td>\n",
       "      <td>13</td>\n",
       "      <td>13</td>\n",
       "      <td>4</td>\n",
       "      <td>1481597.58</td>\n",
       "      <td>1481597.58</td>\n",
       "      <td>0</td>\n",
       "    </tr>\n",
       "    <tr>\n",
       "      <th>3719466</th>\n",
       "      <td>2022-09-07 23:21:00</td>\n",
       "      <td>152746</td>\n",
       "      <td>2</td>\n",
       "      <td>81</td>\n",
       "      <td>598</td>\n",
       "      <td>13</td>\n",
       "      <td>13</td>\n",
       "      <td>3</td>\n",
       "      <td>1983640.26</td>\n",
       "      <td>1983640.26</td>\n",
       "      <td>0</td>\n",
       "    </tr>\n",
       "    <tr>\n",
       "      <th>3719468</th>\n",
       "      <td>2022-09-07 23:05:00</td>\n",
       "      <td>152746</td>\n",
       "      <td>2</td>\n",
       "      <td>81</td>\n",
       "      <td>598</td>\n",
       "      <td>13</td>\n",
       "      <td>13</td>\n",
       "      <td>4</td>\n",
       "      <td>1481597.58</td>\n",
       "      <td>1481597.58</td>\n",
       "      <td>0</td>\n",
       "    </tr>\n",
       "  </tbody>\n",
       "</table>\n",
       "</div>"
      ],
      "text/plain": [
       "                   Timestamp  FromAccount  ToAccount  FromBank  ToBank  \\\n",
       "2798149  2022-09-06 00:45:00       281020          2        19     598   \n",
       "3023096  2022-09-06 12:22:00       152746          2        81     598   \n",
       "3023098  2022-09-06 12:09:00       152746          2        81     598   \n",
       "3719466  2022-09-07 23:21:00       152746          2        81     598   \n",
       "3719468  2022-09-07 23:05:00       152746          2        81     598   \n",
       "\n",
       "         ReceivingCurrency  PaymentCurrency  PaymentFormat  AmountPaid  \\\n",
       "2798149                 13               13              3  1391409.78   \n",
       "3023096                 13               13              3  1983640.26   \n",
       "3023098                 13               13              4  1481597.58   \n",
       "3719466                 13               13              3  1983640.26   \n",
       "3719468                 13               13              4  1481597.58   \n",
       "\n",
       "         AmountReceived  IsLaundering  \n",
       "2798149      1391409.78             0  \n",
       "3023096      1983640.26             0  \n",
       "3023098      1481597.58             0  \n",
       "3719466      1983640.26             0  \n",
       "3719468      1481597.58             0  "
      ]
     },
     "execution_count": 76,
     "metadata": {},
     "output_type": "execute_result"
    }
   ],
   "source": [
    "test_data.head()"
   ]
  },
  {
   "cell_type": "code",
   "execution_count": 77,
   "metadata": {},
   "outputs": [
    {
     "data": {
      "text/plain": [
       "(4009181, 11)"
      ]
     },
     "execution_count": 77,
     "metadata": {},
     "output_type": "execute_result"
    }
   ],
   "source": [
    "train_data = df.loc[~df.index.isin(test_data_seq.index)]\n",
    "train_data.shape"
   ]
  },
  {
   "cell_type": "code",
   "execution_count": 78,
   "metadata": {},
   "outputs": [
    {
     "data": {
      "text/html": [
       "<div>\n",
       "<style scoped>\n",
       "    .dataframe tbody tr th:only-of-type {\n",
       "        vertical-align: middle;\n",
       "    }\n",
       "\n",
       "    .dataframe tbody tr th {\n",
       "        vertical-align: top;\n",
       "    }\n",
       "\n",
       "    .dataframe thead th {\n",
       "        text-align: right;\n",
       "    }\n",
       "</style>\n",
       "<table border=\"1\" class=\"dataframe\">\n",
       "  <thead>\n",
       "    <tr style=\"text-align: right;\">\n",
       "      <th></th>\n",
       "      <th>Timestamp</th>\n",
       "      <th>FromAccount</th>\n",
       "      <th>ToAccount</th>\n",
       "      <th>FromBank</th>\n",
       "      <th>ToBank</th>\n",
       "      <th>ReceivingCurrency</th>\n",
       "      <th>PaymentCurrency</th>\n",
       "      <th>PaymentFormat</th>\n",
       "      <th>AmountPaid</th>\n",
       "      <th>AmountReceived</th>\n",
       "      <th>IsLaundering</th>\n",
       "    </tr>\n",
       "  </thead>\n",
       "  <tbody>\n",
       "    <tr>\n",
       "      <th>0</th>\n",
       "      <td>2022-09-01 00:20:00</td>\n",
       "      <td>6530</td>\n",
       "      <td>6530</td>\n",
       "      <td>8</td>\n",
       "      <td>8</td>\n",
       "      <td>12</td>\n",
       "      <td>12</td>\n",
       "      <td>5</td>\n",
       "      <td>3697.34</td>\n",
       "      <td>3697.34</td>\n",
       "      <td>0</td>\n",
       "    </tr>\n",
       "    <tr>\n",
       "      <th>1</th>\n",
       "      <td>2022-09-01 00:20:00</td>\n",
       "      <td>358174</td>\n",
       "      <td>176809</td>\n",
       "      <td>109</td>\n",
       "      <td>0</td>\n",
       "      <td>12</td>\n",
       "      <td>12</td>\n",
       "      <td>3</td>\n",
       "      <td>0.01</td>\n",
       "      <td>0.01</td>\n",
       "      <td>0</td>\n",
       "    </tr>\n",
       "    <tr>\n",
       "      <th>2</th>\n",
       "      <td>2022-09-01 00:00:00</td>\n",
       "      <td>358476</td>\n",
       "      <td>358476</td>\n",
       "      <td>110</td>\n",
       "      <td>110</td>\n",
       "      <td>12</td>\n",
       "      <td>12</td>\n",
       "      <td>5</td>\n",
       "      <td>14675.57</td>\n",
       "      <td>14675.57</td>\n",
       "      <td>0</td>\n",
       "    </tr>\n",
       "    <tr>\n",
       "      <th>3</th>\n",
       "      <td>2022-09-01 00:02:00</td>\n",
       "      <td>74640</td>\n",
       "      <td>74640</td>\n",
       "      <td>10</td>\n",
       "      <td>10</td>\n",
       "      <td>12</td>\n",
       "      <td>12</td>\n",
       "      <td>5</td>\n",
       "      <td>2806.97</td>\n",
       "      <td>2806.97</td>\n",
       "      <td>0</td>\n",
       "    </tr>\n",
       "    <tr>\n",
       "      <th>4</th>\n",
       "      <td>2022-09-01 00:06:00</td>\n",
       "      <td>6538</td>\n",
       "      <td>6538</td>\n",
       "      <td>8</td>\n",
       "      <td>8</td>\n",
       "      <td>12</td>\n",
       "      <td>12</td>\n",
       "      <td>5</td>\n",
       "      <td>36682.97</td>\n",
       "      <td>36682.97</td>\n",
       "      <td>0</td>\n",
       "    </tr>\n",
       "  </tbody>\n",
       "</table>\n",
       "</div>"
      ],
      "text/plain": [
       "             Timestamp  FromAccount  ToAccount  FromBank  ToBank  \\\n",
       "0  2022-09-01 00:20:00         6530       6530         8       8   \n",
       "1  2022-09-01 00:20:00       358174     176809       109       0   \n",
       "2  2022-09-01 00:00:00       358476     358476       110     110   \n",
       "3  2022-09-01 00:02:00        74640      74640        10      10   \n",
       "4  2022-09-01 00:06:00         6538       6538         8       8   \n",
       "\n",
       "   ReceivingCurrency  PaymentCurrency  PaymentFormat  AmountPaid  \\\n",
       "0                 12               12              5     3697.34   \n",
       "1                 12               12              3        0.01   \n",
       "2                 12               12              5    14675.57   \n",
       "3                 12               12              5     2806.97   \n",
       "4                 12               12              5    36682.97   \n",
       "\n",
       "   AmountReceived  IsLaundering  \n",
       "0         3697.34             0  \n",
       "1            0.01             0  \n",
       "2        14675.57             0  \n",
       "3         2806.97             0  \n",
       "4        36682.97             0  "
      ]
     },
     "execution_count": 78,
     "metadata": {},
     "output_type": "execute_result"
    }
   ],
   "source": [
    "train_data.head()"
   ]
  },
  {
   "cell_type": "code",
   "execution_count": 79,
   "metadata": {},
   "outputs": [
    {
     "data": {
      "text/plain": [
       "IsLaundering\n",
       "0    4005109\n",
       "1       4072\n",
       "Name: count, dtype: int64"
      ]
     },
     "execution_count": 79,
     "metadata": {},
     "output_type": "execute_result"
    }
   ],
   "source": [
    "train_data['IsLaundering'].value_counts()"
   ]
  },
  {
   "cell_type": "code",
   "execution_count": 80,
   "metadata": {},
   "outputs": [
    {
     "data": {
      "text/plain": [
       "IsLaundering\n",
       "0    1068050\n",
       "1       1105\n",
       "Name: count, dtype: int64"
      ]
     },
     "execution_count": 80,
     "metadata": {},
     "output_type": "execute_result"
    }
   ],
   "source": [
    "test_data['IsLaundering'].value_counts()"
   ]
  },
  {
   "cell_type": "code",
   "execution_count": 81,
   "metadata": {},
   "outputs": [],
   "source": [
    "test_data.to_csv(f'HI-Small_Trans_processed_test.csv', index=False)\n",
    "train_data.to_csv(f'HI-Small_Trans_processed_train.csv', index=False)"
   ]
  },
  {
   "cell_type": "code",
   "execution_count": null,
   "metadata": {},
   "outputs": [],
   "source": []
  }
 ],
 "metadata": {
  "kernelspec": {
   "display_name": "Python 3",
   "language": "python",
   "name": "python3"
  },
  "language_info": {
   "codemirror_mode": {
    "name": "ipython",
    "version": 3
   },
   "file_extension": ".py",
   "mimetype": "text/x-python",
   "name": "python",
   "nbconvert_exporter": "python",
   "pygments_lexer": "ipython3",
   "version": "3.9.6"
  }
 },
 "nbformat": 4,
 "nbformat_minor": 2
}
